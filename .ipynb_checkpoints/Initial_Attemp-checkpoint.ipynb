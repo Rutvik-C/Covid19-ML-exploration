{
 "cells": [
  {
   "cell_type": "code",
   "execution_count": 1,
   "metadata": {},
   "outputs": [],
   "source": [
    "import pandas as pd\n",
    "import numpy as np\n",
    "import matplotlib.pyplot as plt"
   ]
  },
  {
   "cell_type": "code",
   "execution_count": 17,
   "metadata": {},
   "outputs": [],
   "source": [
    "file=pd.read_csv('metadata2020.csv',dtype={\n",
    "    'pmcid':str,\n",
    "    'mag_id':str}\n",
    "                )\n",
    "#added these 2 attributes because DtypeWarning: Columns (7,14) \n",
    "#have mixed types. Specify dtype option on import or set low_memory=False.\n",
    "#hence predifednn their datatypes"
   ]
  },
  {
   "cell_type": "code",
   "execution_count": 18,
   "metadata": {},
   "outputs": [
    {
     "data": {
      "text/html": [
       "<div>\n",
       "<style scoped>\n",
       "    .dataframe tbody tr th:only-of-type {\n",
       "        vertical-align: middle;\n",
       "    }\n",
       "\n",
       "    .dataframe tbody tr th {\n",
       "        vertical-align: top;\n",
       "    }\n",
       "\n",
       "    .dataframe thead th {\n",
       "        text-align: right;\n",
       "    }\n",
       "</style>\n",
       "<table border=\"1\" class=\"dataframe\">\n",
       "  <thead>\n",
       "    <tr style=\"text-align: right;\">\n",
       "      <th></th>\n",
       "      <th>Unnamed: 0</th>\n",
       "      <th>cord_uid</th>\n",
       "      <th>sha</th>\n",
       "      <th>source_x</th>\n",
       "      <th>title</th>\n",
       "      <th>doi</th>\n",
       "      <th>pmcid</th>\n",
       "      <th>pubmed_id</th>\n",
       "      <th>license</th>\n",
       "      <th>abstract</th>\n",
       "      <th>publish_time</th>\n",
       "      <th>authors</th>\n",
       "      <th>journal</th>\n",
       "      <th>mag_id</th>\n",
       "      <th>who_covidence_id</th>\n",
       "      <th>arxiv_id</th>\n",
       "      <th>pdf_json_files</th>\n",
       "      <th>pmc_json_files</th>\n",
       "      <th>url</th>\n",
       "      <th>s2_id</th>\n",
       "    </tr>\n",
       "  </thead>\n",
       "  <tbody>\n",
       "    <tr>\n",
       "      <th>0</th>\n",
       "      <td>4252</td>\n",
       "      <td>f9tg6xsg</td>\n",
       "      <td>44449ad1cca160ce491d7624f8ae1028f3570c45</td>\n",
       "      <td>PMC</td>\n",
       "      <td>Dexmedetomidine improved renal function in pat...</td>\n",
       "      <td>10.1186/s40560-019-0415-z</td>\n",
       "      <td>PMC6939335</td>\n",
       "      <td>31908779</td>\n",
       "      <td>cc-by</td>\n",
       "      <td>BACKGROUND: Dexmedetomidine has been reported ...</td>\n",
       "      <td>2020-01-02</td>\n",
       "      <td>Nakashima, Tsuyoshi; Miyamoto, Kyohei; Shima, ...</td>\n",
       "      <td>J Intensive Care</td>\n",
       "      <td>NaN</td>\n",
       "      <td>NaN</td>\n",
       "      <td>NaN</td>\n",
       "      <td>document_parses/pdf_json/44449ad1cca160ce491d7...</td>\n",
       "      <td>document_parses/pmc_json/PMC6939335.xml.json</td>\n",
       "      <td>https://www.ncbi.nlm.nih.gov/pmc/articles/PMC6...</td>\n",
       "      <td>NaN</td>\n",
       "    </tr>\n",
       "    <tr>\n",
       "      <th>1</th>\n",
       "      <td>4253</td>\n",
       "      <td>f73c639r</td>\n",
       "      <td>def41c08c3cb1b3752bcff34d3aed7f8486e1c86</td>\n",
       "      <td>PMC</td>\n",
       "      <td>Aortic volume determines global end-diastolic ...</td>\n",
       "      <td>10.1186/s40635-019-0284-8</td>\n",
       "      <td>PMC6940405</td>\n",
       "      <td>31897796</td>\n",
       "      <td>cc-by</td>\n",
       "      <td>BACKGROUND: Global end-diastolic volume (GEDV)...</td>\n",
       "      <td>2020-01-02</td>\n",
       "      <td>Akohov, Aleksej; Barner, Christoph; Grimmer, S...</td>\n",
       "      <td>Intensive Care Med Exp</td>\n",
       "      <td>NaN</td>\n",
       "      <td>NaN</td>\n",
       "      <td>NaN</td>\n",
       "      <td>document_parses/pdf_json/def41c08c3cb1b3752bcf...</td>\n",
       "      <td>document_parses/pmc_json/PMC6940405.xml.json</td>\n",
       "      <td>https://www.ncbi.nlm.nih.gov/pmc/articles/PMC6...</td>\n",
       "      <td>NaN</td>\n",
       "    </tr>\n",
       "    <tr>\n",
       "      <th>2</th>\n",
       "      <td>4254</td>\n",
       "      <td>1qgpa45q</td>\n",
       "      <td>f5ae3f66face323615df39d838e056ab5fcc98df</td>\n",
       "      <td>PMC</td>\n",
       "      <td>Whole genome sequencing and phylogenetic analy...</td>\n",
       "      <td>10.1186/s12864-019-6400-z</td>\n",
       "      <td>PMC6941262</td>\n",
       "      <td>31898474</td>\n",
       "      <td>cc-by</td>\n",
       "      <td>BACKGROUND: Human metapneumovirus (HMPV) is an...</td>\n",
       "      <td>2020-01-02</td>\n",
       "      <td>Kamau, Everlyn; Oketch, John W.; de Laurent, Z...</td>\n",
       "      <td>BMC Genomics</td>\n",
       "      <td>NaN</td>\n",
       "      <td>NaN</td>\n",
       "      <td>NaN</td>\n",
       "      <td>document_parses/pdf_json/f5ae3f66face323615df3...</td>\n",
       "      <td>document_parses/pmc_json/PMC6941262.xml.json</td>\n",
       "      <td>https://www.ncbi.nlm.nih.gov/pmc/articles/PMC6...</td>\n",
       "      <td>NaN</td>\n",
       "    </tr>\n",
       "    <tr>\n",
       "      <th>3</th>\n",
       "      <td>4255</td>\n",
       "      <td>g34f5w6b</td>\n",
       "      <td>5be75ae4e7f8c892abd8dc396b9dbd035772c84a</td>\n",
       "      <td>PMC</td>\n",
       "      <td>European intensive care physicians’ experience...</td>\n",
       "      <td>10.1186/s13756-019-0662-8</td>\n",
       "      <td>PMC6941296</td>\n",
       "      <td>31908772</td>\n",
       "      <td>cc-by</td>\n",
       "      <td>BACKGROUND: Antimicrobial resistance (AMR) com...</td>\n",
       "      <td>2020-01-02</td>\n",
       "      <td>Lepape, Alain; Jean, Astrid; De Waele, Jan; Fr...</td>\n",
       "      <td>Antimicrob Resist Infect Control</td>\n",
       "      <td>NaN</td>\n",
       "      <td>NaN</td>\n",
       "      <td>NaN</td>\n",
       "      <td>document_parses/pdf_json/5be75ae4e7f8c892abd8d...</td>\n",
       "      <td>document_parses/pmc_json/PMC6941296.xml.json</td>\n",
       "      <td>https://www.ncbi.nlm.nih.gov/pmc/articles/PMC6...</td>\n",
       "      <td>NaN</td>\n",
       "    </tr>\n",
       "    <tr>\n",
       "      <th>4</th>\n",
       "      <td>4256</td>\n",
       "      <td>d1pd09zj</td>\n",
       "      <td>1cee4a0d0e823379ec34a462a04561bf4cd736a2</td>\n",
       "      <td>PMC</td>\n",
       "      <td>Synthetic carbohydrate-based vaccines: challen...</td>\n",
       "      <td>10.1186/s12929-019-0591-0</td>\n",
       "      <td>PMC6941340</td>\n",
       "      <td>31900143</td>\n",
       "      <td>cc-by</td>\n",
       "      <td>Glycoconjugate vaccines based on bacterial cap...</td>\n",
       "      <td>2020-01-03</td>\n",
       "      <td>Mettu, Ravinder; Chen, Chiang-Yun; Wu, Chung-Yi</td>\n",
       "      <td>J Biomed Sci</td>\n",
       "      <td>NaN</td>\n",
       "      <td>NaN</td>\n",
       "      <td>NaN</td>\n",
       "      <td>document_parses/pdf_json/1cee4a0d0e823379ec34a...</td>\n",
       "      <td>document_parses/pmc_json/PMC6941340.xml.json</td>\n",
       "      <td>https://www.ncbi.nlm.nih.gov/pmc/articles/PMC6...</td>\n",
       "      <td>NaN</td>\n",
       "    </tr>\n",
       "  </tbody>\n",
       "</table>\n",
       "</div>"
      ],
      "text/plain": [
       "   Unnamed: 0  cord_uid                                       sha source_x  \\\n",
       "0        4252  f9tg6xsg  44449ad1cca160ce491d7624f8ae1028f3570c45      PMC   \n",
       "1        4253  f73c639r  def41c08c3cb1b3752bcff34d3aed7f8486e1c86      PMC   \n",
       "2        4254  1qgpa45q  f5ae3f66face323615df39d838e056ab5fcc98df      PMC   \n",
       "3        4255  g34f5w6b  5be75ae4e7f8c892abd8dc396b9dbd035772c84a      PMC   \n",
       "4        4256  d1pd09zj  1cee4a0d0e823379ec34a462a04561bf4cd736a2      PMC   \n",
       "\n",
       "                                               title  \\\n",
       "0  Dexmedetomidine improved renal function in pat...   \n",
       "1  Aortic volume determines global end-diastolic ...   \n",
       "2  Whole genome sequencing and phylogenetic analy...   \n",
       "3  European intensive care physicians’ experience...   \n",
       "4  Synthetic carbohydrate-based vaccines: challen...   \n",
       "\n",
       "                         doi       pmcid pubmed_id license  \\\n",
       "0  10.1186/s40560-019-0415-z  PMC6939335  31908779   cc-by   \n",
       "1  10.1186/s40635-019-0284-8  PMC6940405  31897796   cc-by   \n",
       "2  10.1186/s12864-019-6400-z  PMC6941262  31898474   cc-by   \n",
       "3  10.1186/s13756-019-0662-8  PMC6941296  31908772   cc-by   \n",
       "4  10.1186/s12929-019-0591-0  PMC6941340  31900143   cc-by   \n",
       "\n",
       "                                            abstract publish_time  \\\n",
       "0  BACKGROUND: Dexmedetomidine has been reported ...   2020-01-02   \n",
       "1  BACKGROUND: Global end-diastolic volume (GEDV)...   2020-01-02   \n",
       "2  BACKGROUND: Human metapneumovirus (HMPV) is an...   2020-01-02   \n",
       "3  BACKGROUND: Antimicrobial resistance (AMR) com...   2020-01-02   \n",
       "4  Glycoconjugate vaccines based on bacterial cap...   2020-01-03   \n",
       "\n",
       "                                             authors  \\\n",
       "0  Nakashima, Tsuyoshi; Miyamoto, Kyohei; Shima, ...   \n",
       "1  Akohov, Aleksej; Barner, Christoph; Grimmer, S...   \n",
       "2  Kamau, Everlyn; Oketch, John W.; de Laurent, Z...   \n",
       "3  Lepape, Alain; Jean, Astrid; De Waele, Jan; Fr...   \n",
       "4    Mettu, Ravinder; Chen, Chiang-Yun; Wu, Chung-Yi   \n",
       "\n",
       "                            journal mag_id who_covidence_id  arxiv_id  \\\n",
       "0                  J Intensive Care    NaN              NaN       NaN   \n",
       "1            Intensive Care Med Exp    NaN              NaN       NaN   \n",
       "2                      BMC Genomics    NaN              NaN       NaN   \n",
       "3  Antimicrob Resist Infect Control    NaN              NaN       NaN   \n",
       "4                      J Biomed Sci    NaN              NaN       NaN   \n",
       "\n",
       "                                      pdf_json_files  \\\n",
       "0  document_parses/pdf_json/44449ad1cca160ce491d7...   \n",
       "1  document_parses/pdf_json/def41c08c3cb1b3752bcf...   \n",
       "2  document_parses/pdf_json/f5ae3f66face323615df3...   \n",
       "3  document_parses/pdf_json/5be75ae4e7f8c892abd8d...   \n",
       "4  document_parses/pdf_json/1cee4a0d0e823379ec34a...   \n",
       "\n",
       "                                 pmc_json_files  \\\n",
       "0  document_parses/pmc_json/PMC6939335.xml.json   \n",
       "1  document_parses/pmc_json/PMC6940405.xml.json   \n",
       "2  document_parses/pmc_json/PMC6941262.xml.json   \n",
       "3  document_parses/pmc_json/PMC6941296.xml.json   \n",
       "4  document_parses/pmc_json/PMC6941340.xml.json   \n",
       "\n",
       "                                                 url  s2_id  \n",
       "0  https://www.ncbi.nlm.nih.gov/pmc/articles/PMC6...    NaN  \n",
       "1  https://www.ncbi.nlm.nih.gov/pmc/articles/PMC6...    NaN  \n",
       "2  https://www.ncbi.nlm.nih.gov/pmc/articles/PMC6...    NaN  \n",
       "3  https://www.ncbi.nlm.nih.gov/pmc/articles/PMC6...    NaN  \n",
       "4  https://www.ncbi.nlm.nih.gov/pmc/articles/PMC6...    NaN  "
      ]
     },
     "execution_count": 18,
     "metadata": {},
     "output_type": "execute_result"
    }
   ],
   "source": [
    "file.head()"
   ]
  },
  {
   "cell_type": "code",
   "execution_count": 19,
   "metadata": {},
   "outputs": [
    {
     "name": "stdout",
     "output_type": "stream",
     "text": [
      "<class 'pandas.core.frame.DataFrame'>\n",
      "RangeIndex: 109868 entries, 0 to 109867\n",
      "Data columns (total 20 columns):\n",
      " #   Column            Non-Null Count   Dtype  \n",
      "---  ------            --------------   -----  \n",
      " 0   Unnamed: 0        109868 non-null  int64  \n",
      " 1   cord_uid          109868 non-null  object \n",
      " 2   sha               68391 non-null   object \n",
      " 3   source_x          109868 non-null  object \n",
      " 4   title             109814 non-null  object \n",
      " 5   doi               105250 non-null  object \n",
      " 6   pmcid             66506 non-null   object \n",
      " 7   pubmed_id         83138 non-null   object \n",
      " 8   license           109868 non-null  object \n",
      " 9   abstract          76668 non-null   object \n",
      " 10  publish_time      109868 non-null  object \n",
      " 11  authors           106502 non-null  object \n",
      " 12  journal           96563 non-null   object \n",
      " 13  mag_id            0 non-null       object \n",
      " 14  who_covidence_id  921 non-null     object \n",
      " 15  arxiv_id          3705 non-null    float64\n",
      " 16  pdf_json_files    68391 non-null   object \n",
      " 17  pmc_json_files    49259 non-null   object \n",
      " 18  url               109868 non-null  object \n",
      " 19  s2_id             97188 non-null   float64\n",
      "dtypes: float64(2), int64(1), object(17)\n",
      "memory usage: 16.8+ MB\n"
     ]
    }
   ],
   "source": [
    "file.info()"
   ]
  },
  {
   "cell_type": "code",
   "execution_count": 22,
   "metadata": {},
   "outputs": [
    {
     "data": {
      "text/plain": [
       "0         Dexmedetomidine improved renal function in pat...\n",
       "1         Aortic volume determines global end-diastolic ...\n",
       "2         Whole genome sequencing and phylogenetic analy...\n",
       "3         European intensive care physicians’ experience...\n",
       "4         Synthetic carbohydrate-based vaccines: challen...\n",
       "                                ...                        \n",
       "109863    When Public Health Research Meets Social Media...\n",
       "109864    Surgical Precautions and Algorithmic Decision-...\n",
       "109865    Face masks prevent transmission of respiratory...\n",
       "109866    Systematic Screening for Venous Thromboembolic...\n",
       "109867    On Answering the Call to Action for COVID-19: ...\n",
       "Name: title, Length: 109868, dtype: object"
      ]
     },
     "execution_count": 22,
     "metadata": {},
     "output_type": "execute_result"
    }
   ],
   "source": [
    "file['title']"
   ]
  },
  {
   "cell_type": "code",
   "execution_count": null,
   "metadata": {},
   "outputs": [],
   "source": [
    "embeddings=pd.read_csv('')"
   ]
  },
  {
   "cell_type": "code",
   "execution_count": 35,
   "metadata": {},
   "outputs": [],
   "source": [
    "modified_file=file[['sha','title','abstract','pdf_json_files','pmc_json_files']]"
   ]
  },
  {
   "cell_type": "code",
   "execution_count": 2,
   "metadata": {},
   "outputs": [],
   "source": [
    "# modified_file"
   ]
  },
  {
   "cell_type": "code",
   "execution_count": 37,
   "metadata": {},
   "outputs": [],
   "source": [
    "modified_file=modified_file.dropna(subset=['title','abstract'])"
   ]
  },
  {
   "cell_type": "markdown",
   "metadata": {},
   "source": []
  },
  {
   "cell_type": "code",
   "execution_count": 41,
   "metadata": {},
   "outputs": [],
   "source": [
    "#done so that Nan Files are theereby removed"
   ]
  },
  {
   "cell_type": "code",
   "execution_count": 38,
   "metadata": {},
   "outputs": [
    {
     "data": {
      "text/html": [
       "<div>\n",
       "<style scoped>\n",
       "    .dataframe tbody tr th:only-of-type {\n",
       "        vertical-align: middle;\n",
       "    }\n",
       "\n",
       "    .dataframe tbody tr th {\n",
       "        vertical-align: top;\n",
       "    }\n",
       "\n",
       "    .dataframe thead th {\n",
       "        text-align: right;\n",
       "    }\n",
       "</style>\n",
       "<table border=\"1\" class=\"dataframe\">\n",
       "  <thead>\n",
       "    <tr style=\"text-align: right;\">\n",
       "      <th></th>\n",
       "      <th>sha</th>\n",
       "      <th>title</th>\n",
       "      <th>abstract</th>\n",
       "      <th>pdf_json_files</th>\n",
       "      <th>pmc_json_files</th>\n",
       "    </tr>\n",
       "  </thead>\n",
       "  <tbody>\n",
       "    <tr>\n",
       "      <th>0</th>\n",
       "      <td>44449ad1cca160ce491d7624f8ae1028f3570c45</td>\n",
       "      <td>Dexmedetomidine improved renal function in pat...</td>\n",
       "      <td>BACKGROUND: Dexmedetomidine has been reported ...</td>\n",
       "      <td>document_parses/pdf_json/44449ad1cca160ce491d7...</td>\n",
       "      <td>document_parses/pmc_json/PMC6939335.xml.json</td>\n",
       "    </tr>\n",
       "    <tr>\n",
       "      <th>1</th>\n",
       "      <td>def41c08c3cb1b3752bcff34d3aed7f8486e1c86</td>\n",
       "      <td>Aortic volume determines global end-diastolic ...</td>\n",
       "      <td>BACKGROUND: Global end-diastolic volume (GEDV)...</td>\n",
       "      <td>document_parses/pdf_json/def41c08c3cb1b3752bcf...</td>\n",
       "      <td>document_parses/pmc_json/PMC6940405.xml.json</td>\n",
       "    </tr>\n",
       "    <tr>\n",
       "      <th>2</th>\n",
       "      <td>f5ae3f66face323615df39d838e056ab5fcc98df</td>\n",
       "      <td>Whole genome sequencing and phylogenetic analy...</td>\n",
       "      <td>BACKGROUND: Human metapneumovirus (HMPV) is an...</td>\n",
       "      <td>document_parses/pdf_json/f5ae3f66face323615df3...</td>\n",
       "      <td>document_parses/pmc_json/PMC6941262.xml.json</td>\n",
       "    </tr>\n",
       "    <tr>\n",
       "      <th>3</th>\n",
       "      <td>5be75ae4e7f8c892abd8dc396b9dbd035772c84a</td>\n",
       "      <td>European intensive care physicians’ experience...</td>\n",
       "      <td>BACKGROUND: Antimicrobial resistance (AMR) com...</td>\n",
       "      <td>document_parses/pdf_json/5be75ae4e7f8c892abd8d...</td>\n",
       "      <td>document_parses/pmc_json/PMC6941296.xml.json</td>\n",
       "    </tr>\n",
       "    <tr>\n",
       "      <th>4</th>\n",
       "      <td>1cee4a0d0e823379ec34a462a04561bf4cd736a2</td>\n",
       "      <td>Synthetic carbohydrate-based vaccines: challen...</td>\n",
       "      <td>Glycoconjugate vaccines based on bacterial cap...</td>\n",
       "      <td>document_parses/pdf_json/1cee4a0d0e823379ec34a...</td>\n",
       "      <td>document_parses/pmc_json/PMC6941340.xml.json</td>\n",
       "    </tr>\n",
       "    <tr>\n",
       "      <th>...</th>\n",
       "      <td>...</td>\n",
       "      <td>...</td>\n",
       "      <td>...</td>\n",
       "      <td>...</td>\n",
       "      <td>...</td>\n",
       "    </tr>\n",
       "    <tr>\n",
       "      <th>109861</th>\n",
       "      <td>1f9a1e98b42ca167e9f0b8d7f4ea40df0770bc55</td>\n",
       "      <td>Mental Health Care Providers Dealing With Coro...</td>\n",
       "      <td>The goal of this column is to inform mental he...</td>\n",
       "      <td>document_parses/pdf_json/1f9a1e98b42ca167e9f0b...</td>\n",
       "      <td>document_parses/pmc_json/PMC7188066.xml.json</td>\n",
       "    </tr>\n",
       "    <tr>\n",
       "      <th>109862</th>\n",
       "      <td>a280162db7201aaaeb80b6a26853d9e5252338d4</td>\n",
       "      <td>Characteristics Associated with Hospitalizatio...</td>\n",
       "      <td>The first reported U.S. case of coronavirus di...</td>\n",
       "      <td>document_parses/pdf_json/a280162db7201aaaeb80b...</td>\n",
       "      <td>document_parses/pmc_json/PMC7316317.xml.json</td>\n",
       "    </tr>\n",
       "    <tr>\n",
       "      <th>109863</th>\n",
       "      <td>NaN</td>\n",
       "      <td>When Public Health Research Meets Social Media...</td>\n",
       "      <td>BACKGROUND: Social media has substantially cha...</td>\n",
       "      <td>NaN</td>\n",
       "      <td>document_parses/pmc_json/PMC7453331.xml.json</td>\n",
       "    </tr>\n",
       "    <tr>\n",
       "      <th>109865</th>\n",
       "      <td>a834cf2b9f13a90e70951de1dc91c949ca904c5c</td>\n",
       "      <td>Face masks prevent transmission of respiratory...</td>\n",
       "      <td>Background: Coronavirus Disease 2019 (COVID-19...</td>\n",
       "      <td>document_parses/pdf_json/a834cf2b9f13a90e70951...</td>\n",
       "      <td>NaN</td>\n",
       "    </tr>\n",
       "    <tr>\n",
       "      <th>109867</th>\n",
       "      <td>3fa1ebfa739cde2e3525324a02c8e819b687e370</td>\n",
       "      <td>On Answering the Call to Action for COVID-19: ...</td>\n",
       "      <td>The indelible impacts on our nation from the C...</td>\n",
       "      <td>document_parses/pdf_json/3fa1ebfa739cde2e35253...</td>\n",
       "      <td>document_parses/pmc_json/PMC7375296.xml.json</td>\n",
       "    </tr>\n",
       "  </tbody>\n",
       "</table>\n",
       "<p>76662 rows × 5 columns</p>\n",
       "</div>"
      ],
      "text/plain": [
       "                                             sha  \\\n",
       "0       44449ad1cca160ce491d7624f8ae1028f3570c45   \n",
       "1       def41c08c3cb1b3752bcff34d3aed7f8486e1c86   \n",
       "2       f5ae3f66face323615df39d838e056ab5fcc98df   \n",
       "3       5be75ae4e7f8c892abd8dc396b9dbd035772c84a   \n",
       "4       1cee4a0d0e823379ec34a462a04561bf4cd736a2   \n",
       "...                                          ...   \n",
       "109861  1f9a1e98b42ca167e9f0b8d7f4ea40df0770bc55   \n",
       "109862  a280162db7201aaaeb80b6a26853d9e5252338d4   \n",
       "109863                                       NaN   \n",
       "109865  a834cf2b9f13a90e70951de1dc91c949ca904c5c   \n",
       "109867  3fa1ebfa739cde2e3525324a02c8e819b687e370   \n",
       "\n",
       "                                                    title  \\\n",
       "0       Dexmedetomidine improved renal function in pat...   \n",
       "1       Aortic volume determines global end-diastolic ...   \n",
       "2       Whole genome sequencing and phylogenetic analy...   \n",
       "3       European intensive care physicians’ experience...   \n",
       "4       Synthetic carbohydrate-based vaccines: challen...   \n",
       "...                                                   ...   \n",
       "109861  Mental Health Care Providers Dealing With Coro...   \n",
       "109862  Characteristics Associated with Hospitalizatio...   \n",
       "109863  When Public Health Research Meets Social Media...   \n",
       "109865  Face masks prevent transmission of respiratory...   \n",
       "109867  On Answering the Call to Action for COVID-19: ...   \n",
       "\n",
       "                                                 abstract  \\\n",
       "0       BACKGROUND: Dexmedetomidine has been reported ...   \n",
       "1       BACKGROUND: Global end-diastolic volume (GEDV)...   \n",
       "2       BACKGROUND: Human metapneumovirus (HMPV) is an...   \n",
       "3       BACKGROUND: Antimicrobial resistance (AMR) com...   \n",
       "4       Glycoconjugate vaccines based on bacterial cap...   \n",
       "...                                                   ...   \n",
       "109861  The goal of this column is to inform mental he...   \n",
       "109862  The first reported U.S. case of coronavirus di...   \n",
       "109863  BACKGROUND: Social media has substantially cha...   \n",
       "109865  Background: Coronavirus Disease 2019 (COVID-19...   \n",
       "109867  The indelible impacts on our nation from the C...   \n",
       "\n",
       "                                           pdf_json_files  \\\n",
       "0       document_parses/pdf_json/44449ad1cca160ce491d7...   \n",
       "1       document_parses/pdf_json/def41c08c3cb1b3752bcf...   \n",
       "2       document_parses/pdf_json/f5ae3f66face323615df3...   \n",
       "3       document_parses/pdf_json/5be75ae4e7f8c892abd8d...   \n",
       "4       document_parses/pdf_json/1cee4a0d0e823379ec34a...   \n",
       "...                                                   ...   \n",
       "109861  document_parses/pdf_json/1f9a1e98b42ca167e9f0b...   \n",
       "109862  document_parses/pdf_json/a280162db7201aaaeb80b...   \n",
       "109863                                                NaN   \n",
       "109865  document_parses/pdf_json/a834cf2b9f13a90e70951...   \n",
       "109867  document_parses/pdf_json/3fa1ebfa739cde2e35253...   \n",
       "\n",
       "                                      pmc_json_files  \n",
       "0       document_parses/pmc_json/PMC6939335.xml.json  \n",
       "1       document_parses/pmc_json/PMC6940405.xml.json  \n",
       "2       document_parses/pmc_json/PMC6941262.xml.json  \n",
       "3       document_parses/pmc_json/PMC6941296.xml.json  \n",
       "4       document_parses/pmc_json/PMC6941340.xml.json  \n",
       "...                                              ...  \n",
       "109861  document_parses/pmc_json/PMC7188066.xml.json  \n",
       "109862  document_parses/pmc_json/PMC7316317.xml.json  \n",
       "109863  document_parses/pmc_json/PMC7453331.xml.json  \n",
       "109865                                           NaN  \n",
       "109867  document_parses/pmc_json/PMC7375296.xml.json  \n",
       "\n",
       "[76662 rows x 5 columns]"
      ]
     },
     "execution_count": 38,
     "metadata": {},
     "output_type": "execute_result"
    }
   ],
   "source": [
    "modified_file"
   ]
  },
  {
   "cell_type": "code",
   "execution_count": 75,
   "metadata": {},
   "outputs": [],
   "source": [
    "import nltk\n",
    "from nltk.corpus import stopwords\n",
    "from nltk.stem.porter import *\n",
    "\n",
    "import re\n",
    "from bs4 import BeautifulSoup\n",
    "\n",
    "def review_to_words(review):\n",
    "    nltk.download(\"stopwords\", quiet=True)\n",
    "    stemmer = PorterStemmer()\n",
    "    \n",
    "    text = BeautifulSoup(review, \"html.parser\").get_text() # Remove HTML tags\n",
    "    text = re.sub(r\"[^a-zA-Z0-9]\", \" \", text.lower()) # Convert to lower case\n",
    "    words = text.split() # Split string into words\n",
    "    words = [w for w in words if w not in stopwords.words(\"english\")] # Remove stopwords\n",
    "    words = [PorterStemmer().stem(w) for w in words] # stem\n",
    "    \n",
    "    return words"
   ]
  },
  {
   "cell_type": "code",
   "execution_count": 76,
   "metadata": {},
   "outputs": [],
   "source": [
    "jash=review_to_words(modified_file['abstract'][0])"
   ]
  },
  {
   "cell_type": "code",
   "execution_count": 77,
   "metadata": {},
   "outputs": [],
   "source": [
    "jash2=review_to_words(modified_file['title'][0])"
   ]
  },
  {
   "cell_type": "code",
   "execution_count": 78,
   "metadata": {},
   "outputs": [
    {
     "data": {
      "text/plain": [
       "12"
      ]
     },
     "execution_count": 78,
     "metadata": {},
     "output_type": "execute_result"
    }
   ],
   "source": [
    "len(jash2)"
   ]
  },
  {
   "cell_type": "code",
   "execution_count": 79,
   "metadata": {},
   "outputs": [
    {
     "data": {
      "text/plain": [
       "247"
      ]
     },
     "execution_count": 79,
     "metadata": {},
     "output_type": "execute_result"
    }
   ],
   "source": [
    "len(jash)"
   ]
  },
  {
   "cell_type": "code",
   "execution_count": 80,
   "metadata": {},
   "outputs": [
    {
     "data": {
      "text/plain": [
       "['background',\n",
       " 'dexmedetomidin',\n",
       " 'report',\n",
       " 'improv',\n",
       " 'organ',\n",
       " 'dysfunct',\n",
       " 'critic',\n",
       " 'ill',\n",
       " 'patient',\n",
       " 'recent',\n",
       " 'random',\n",
       " 'control',\n",
       " 'trial',\n",
       " 'dexmedetomidin',\n",
       " 'sepsi',\n",
       " 'intens',\n",
       " 'care',\n",
       " 'unit',\n",
       " 'icu',\n",
       " 'random',\n",
       " 'evolut',\n",
       " 'desir',\n",
       " 'demonstr',\n",
       " 'dexmedetomidin',\n",
       " 'associ',\n",
       " 'reduc',\n",
       " 'mortal',\n",
       " 'risk',\n",
       " 'among',\n",
       " 'patient',\n",
       " 'sever',\n",
       " 'sepsi',\n",
       " 'perform',\n",
       " 'exploratori',\n",
       " 'sub',\n",
       " 'analysi',\n",
       " 'examin',\n",
       " 'mechan',\n",
       " 'underli',\n",
       " 'improv',\n",
       " 'surviv',\n",
       " 'patient',\n",
       " 'sedat',\n",
       " 'dexmedetomidin',\n",
       " 'method',\n",
       " 'desir',\n",
       " 'trial',\n",
       " 'compar',\n",
       " 'sedat',\n",
       " 'strategi',\n",
       " 'without',\n",
       " 'dexmedetomidin',\n",
       " 'among',\n",
       " '201',\n",
       " 'mechan',\n",
       " 'ventil',\n",
       " 'adult',\n",
       " 'patient',\n",
       " 'sepsi',\n",
       " 'across',\n",
       " 'eight',\n",
       " 'icu',\n",
       " 'japan',\n",
       " 'present',\n",
       " 'studi',\n",
       " 'includ',\n",
       " '104',\n",
       " 'patient',\n",
       " 'acut',\n",
       " 'physiolog',\n",
       " 'chronic',\n",
       " 'health',\n",
       " 'evalu',\n",
       " 'ii',\n",
       " 'apach',\n",
       " 'ii',\n",
       " 'score',\n",
       " '23',\n",
       " '54',\n",
       " 'dexmedetomidin',\n",
       " 'dex',\n",
       " 'group',\n",
       " '50',\n",
       " 'non',\n",
       " 'dexmedetomidin',\n",
       " 'non',\n",
       " 'dex',\n",
       " 'group',\n",
       " 'initi',\n",
       " 'compar',\n",
       " 'chang',\n",
       " 'sequenti',\n",
       " 'organ',\n",
       " 'failur',\n",
       " 'assess',\n",
       " 'sofa',\n",
       " 'score',\n",
       " 'baselin',\n",
       " 'within',\n",
       " '6',\n",
       " 'day',\n",
       " 'random',\n",
       " 'group',\n",
       " 'subsequ',\n",
       " 'evalu',\n",
       " 'variabl',\n",
       " 'compris',\n",
       " 'organ',\n",
       " 'compon',\n",
       " 'sofa',\n",
       " 'score',\n",
       " 'show',\n",
       " 'relev',\n",
       " 'improv',\n",
       " 'initi',\n",
       " 'comparison',\n",
       " 'result',\n",
       " 'mean',\n",
       " 'patient',\n",
       " 'age',\n",
       " '71',\n",
       " '0',\n",
       " '14',\n",
       " '1',\n",
       " 'year',\n",
       " 'differ',\n",
       " 'median',\n",
       " 'apach',\n",
       " 'ii',\n",
       " 'score',\n",
       " 'two',\n",
       " 'group',\n",
       " '29',\n",
       " 'interquartil',\n",
       " 'rang',\n",
       " 'iqr',\n",
       " '25',\n",
       " '31',\n",
       " 'vs',\n",
       " '30',\n",
       " 'iqr',\n",
       " '25',\n",
       " '33',\n",
       " 'p',\n",
       " '0',\n",
       " '35',\n",
       " 'median',\n",
       " 'sofa',\n",
       " 'score',\n",
       " 'baselin',\n",
       " 'lower',\n",
       " 'dex',\n",
       " 'group',\n",
       " '9',\n",
       " 'iqr',\n",
       " '7',\n",
       " '11',\n",
       " 'vs',\n",
       " '11',\n",
       " 'iqr',\n",
       " '9',\n",
       " '13',\n",
       " 'p',\n",
       " '0',\n",
       " '01',\n",
       " 'renal',\n",
       " 'sofa',\n",
       " 'subscor',\n",
       " 'baselin',\n",
       " 'similar',\n",
       " 'group',\n",
       " 'significantli',\n",
       " 'decreas',\n",
       " 'dex',\n",
       " 'group',\n",
       " 'day',\n",
       " '4',\n",
       " 'p',\n",
       " '0',\n",
       " '02',\n",
       " 'first',\n",
       " '6',\n",
       " 'day',\n",
       " 'urinari',\n",
       " 'output',\n",
       " 'significantli',\n",
       " 'differ',\n",
       " 'p',\n",
       " '0',\n",
       " '09',\n",
       " 'serum',\n",
       " 'creatinin',\n",
       " 'level',\n",
       " 'significantli',\n",
       " 'lower',\n",
       " 'p',\n",
       " '0',\n",
       " '04',\n",
       " 'dex',\n",
       " 'group',\n",
       " '28',\n",
       " 'day',\n",
       " 'hospit',\n",
       " 'mortal',\n",
       " 'rate',\n",
       " 'significantli',\n",
       " 'lower',\n",
       " 'dex',\n",
       " 'group',\n",
       " '22',\n",
       " 'vs',\n",
       " '42',\n",
       " 'p',\n",
       " '0',\n",
       " '03',\n",
       " '28',\n",
       " 'vs',\n",
       " '52',\n",
       " 'p',\n",
       " '0',\n",
       " '01',\n",
       " 'respect',\n",
       " 'conclus',\n",
       " 'sedat',\n",
       " 'strategi',\n",
       " 'dexmedetomidin',\n",
       " 'associ',\n",
       " 'improv',\n",
       " 'renal',\n",
       " 'function',\n",
       " 'decreas',\n",
       " 'mortal',\n",
       " 'rate',\n",
       " 'among',\n",
       " 'patient',\n",
       " 'sever',\n",
       " 'sepsi',\n",
       " 'trial',\n",
       " 'registr',\n",
       " 'trial',\n",
       " 'regist',\n",
       " 'clinicaltri',\n",
       " 'gov',\n",
       " 'nct01760967',\n",
       " 'januari',\n",
       " '1',\n",
       " '2013']"
      ]
     },
     "execution_count": 80,
     "metadata": {},
     "output_type": "execute_result"
    }
   ],
   "source": [
    "jash"
   ]
  },
  {
   "cell_type": "code",
   "execution_count": 81,
   "metadata": {},
   "outputs": [
    {
     "data": {
      "text/plain": [
       "['dexmedetomidin',\n",
       " 'improv',\n",
       " 'renal',\n",
       " 'function',\n",
       " 'patient',\n",
       " 'sever',\n",
       " 'sepsi',\n",
       " 'exploratori',\n",
       " 'analysi',\n",
       " 'random',\n",
       " 'control',\n",
       " 'trial']"
      ]
     },
     "execution_count": 81,
     "metadata": {},
     "output_type": "execute_result"
    }
   ],
   "source": [
    "jash2"
   ]
  },
  {
   "cell_type": "code",
   "execution_count": 82,
   "metadata": {},
   "outputs": [
    {
     "name": "stdout",
     "output_type": "stream",
     "text": [
      "Yes dexmedetomidin\n",
      "Yes improv\n",
      "Yes renal\n",
      "Yes function\n",
      "Yes patient\n",
      "Yes sever\n",
      "Yes sepsi\n",
      "Yes exploratori\n",
      "Yes analysi\n",
      "Yes random\n",
      "Yes control\n",
      "Yes trial\n"
     ]
    }
   ],
   "source": [
    "i=0\n",
    "for word in jash2:\n",
    "    if word in jash:\n",
    "        print(f\"Yes {word}\")\n",
    "        i+=1;"
   ]
  },
  {
   "cell_type": "code",
   "execution_count": 83,
   "metadata": {},
   "outputs": [
    {
     "data": {
      "text/plain": [
       "12"
      ]
     },
     "execution_count": 83,
     "metadata": {},
     "output_type": "execute_result"
    }
   ],
   "source": [
    "i"
   ]
  },
  {
   "cell_type": "code",
   "execution_count": 86,
   "metadata": {},
   "outputs": [],
   "source": [
    "modified_file_small=modified_file.sample(frac=0.1,replace=False)"
   ]
  },
  {
   "cell_type": "code",
   "execution_count": 88,
   "metadata": {},
   "outputs": [
    {
     "data": {
      "text/plain": [
       "(7666, 5)"
      ]
     },
     "execution_count": 88,
     "metadata": {},
     "output_type": "execute_result"
    }
   ],
   "source": [
    "modified_file_small.shape"
   ]
  },
  {
   "cell_type": "code",
   "execution_count": 89,
   "metadata": {},
   "outputs": [],
   "source": [
    "abstract_words=[]"
   ]
  },
  {
   "cell_type": "code",
   "execution_count": 90,
   "metadata": {},
   "outputs": [
    {
     "name": "stderr",
     "output_type": "stream",
     "text": [
      "C:\\Users\\windows\\anaconda3\\lib\\site-packages\\bs4\\__init__.py:329: MarkupResemblesLocatorWarning: \".\" looks like a filename, not markup. You should probably open this file and pass the filehandle into Beautiful Soup.\n",
      "  warnings.warn(\n"
     ]
    }
   ],
   "source": [
    "for file in modified_file_small['abstract']:\n",
    "    word=[]\n",
    "    word=review_to_words(file)\n",
    "    abstract_words.append(word)"
   ]
  },
  {
   "cell_type": "code",
   "execution_count": 91,
   "metadata": {},
   "outputs": [
    {
     "data": {
      "text/plain": [
       "7666"
      ]
     },
     "execution_count": 91,
     "metadata": {},
     "output_type": "execute_result"
    }
   ],
   "source": [
    "len(abstract_words)"
   ]
  },
  {
   "cell_type": "code",
   "execution_count": null,
   "metadata": {},
   "outputs": [],
   "source": []
  },
  {
   "cell_type": "code",
   "execution_count": 95,
   "metadata": {},
   "outputs": [],
   "source": [
    "from collections import Counter\n",
    "def build_dict(data, vocab_size = 5000):\n",
    "    \"\"\"Construct and return a dictionary mapping each of the most frequently appearing words to a unique integer.\"\"\"\n",
    "    \n",
    "    # TODO: Determine how often each word appears in `data`. Note that `data` is a list of sentences(abstract) and that a\n",
    "    #       sentence is a list of words.\n",
    "    \n",
    "    #word_count = {} # A dict storing the words that appear in the reviews along with how often they occur\n",
    "    flatten_data=sum(data,[])#converts 2d list into 1d list\n",
    "    word_count=Counter(flatten_data)\n",
    "    # TODO: Sort the words found in `data` so that sorted_words[0] is the most frequently appearing word and\n",
    "    #       sorted_words[-1] is the least frequently appearing word.\n",
    "    \n",
    "    flatten_data=None#-------done to save space on the memory\n",
    "    \n",
    "    sorted_words = sorted(word_count,key=word_count.get,reverse=True)\n",
    "    \n",
    "    word_dict = {} # This is what we are building, a dictionary that translates words into integers\n",
    "    for idx, word in enumerate(sorted_words[:vocab_size - 2]): # The -2 is so that we save room for the 'no word'\n",
    "        word_dict[word] = idx + 2                              # 'infrequent' labels\n",
    "        \n",
    "    return word_dict"
   ]
  },
  {
   "cell_type": "code",
   "execution_count": 96,
   "metadata": {},
   "outputs": [],
   "source": [
    "abstract_dict = build_dict(abstract_words)"
   ]
  },
  {
   "cell_type": "code",
   "execution_count": 3,
   "metadata": {},
   "outputs": [],
   "source": [
    "# abstract_dict"
   ]
  },
  {
   "cell_type": "code",
   "execution_count": 100,
   "metadata": {},
   "outputs": [
    {
     "ename": "AttributeError",
     "evalue": "'dict' object has no attribute 'most_common'",
     "output_type": "error",
     "traceback": [
      "\u001b[1;31m---------------------------------------------------------------------------\u001b[0m",
      "\u001b[1;31mAttributeError\u001b[0m                            Traceback (most recent call last)",
      "\u001b[1;32m<ipython-input-100-07902f442325>\u001b[0m in \u001b[0;36m<module>\u001b[1;34m\u001b[0m\n\u001b[1;32m----> 1\u001b[1;33m \u001b[0mabstract_dict\u001b[0m\u001b[1;33m.\u001b[0m\u001b[0mmost_common\u001b[0m\u001b[1;33m(\u001b[0m\u001b[1;33m)\u001b[0m\u001b[1;33m[\u001b[0m\u001b[1;33m:\u001b[0m\u001b[1;33m-\u001b[0m\u001b[1;36m6\u001b[0m\u001b[1;33m:\u001b[0m\u001b[1;33m-\u001b[0m\u001b[1;36m1\u001b[0m\u001b[1;33m]\u001b[0m\u001b[1;33m\u001b[0m\u001b[1;33m\u001b[0m\u001b[0m\n\u001b[0m",
      "\u001b[1;31mAttributeError\u001b[0m: 'dict' object has no attribute 'most_common'"
     ]
    }
   ],
   "source": [
    "abstract_dict.most_common()[:-6:-1]"
   ]
  },
  {
   "cell_type": "code",
   "execution_count": 102,
   "metadata": {},
   "outputs": [],
   "source": [
    "abstract_counter=Counter(abstract_dict)"
   ]
  },
  {
   "cell_type": "code",
   "execution_count": 4,
   "metadata": {
    "scrolled": true
   },
   "outputs": [],
   "source": [
    "# abstract_counter"
   ]
  },
  {
   "cell_type": "code",
   "execution_count": 105,
   "metadata": {},
   "outputs": [
    {
     "data": {
      "text/plain": [
       "[('19', 2),\n",
       " ('covid', 3),\n",
       " ('patient', 4),\n",
       " ('2', 5),\n",
       " ('use', 6),\n",
       " ('0', 7),\n",
       " ('studi', 8),\n",
       " ('cov', 9),\n",
       " ('sar', 10)]"
      ]
     },
     "execution_count": 105,
     "metadata": {},
     "output_type": "execute_result"
    }
   ],
   "source": [
    "abstract_counter.most_common()[:-10:-1]"
   ]
  },
  {
   "cell_type": "code",
   "execution_count": 120,
   "metadata": {},
   "outputs": [],
   "source": [
    "import os\n",
    "data_dir = '/jash' # The folder we will use for storing data\n",
    "if not os.path.exists(data_dir): # Make sure that the folder exists\n",
    "    os.makedirs(data_dir)"
   ]
  },
  {
   "cell_type": "code",
   "execution_count": 121,
   "metadata": {},
   "outputs": [],
   "source": [
    "import pickle\n",
    "with open(os.path.join(data_dir, 'abstract_dict.pkl'), \"wb\") as f:\n",
    "    pickle.dump(abstract_dict, f)"
   ]
  },
  {
   "cell_type": "code",
   "execution_count": 122,
   "metadata": {},
   "outputs": [
    {
     "name": "stdout",
     "output_type": "stream",
     "text": [
      "../jash\n"
     ]
    }
   ],
   "source": [
    "print(data_dir)"
   ]
  },
  {
   "cell_type": "code",
   "execution_count": 113,
   "metadata": {
    "scrolled": true
   },
   "outputs": [
    {
     "name": "stderr",
     "output_type": "stream",
     "text": [
      "'pwd' is not recognized as an internal or external command,\n",
      "operable program or batch file.\n"
     ]
    }
   ],
   "source": [
    "!pwd"
   ]
  },
  {
   "cell_type": "code",
   "execution_count": 5,
   "metadata": {
    "scrolled": true
   },
   "outputs": [],
   "source": [
    "# abstract_dict"
   ]
  },
  {
   "cell_type": "code",
   "execution_count": 124,
   "metadata": {},
   "outputs": [],
   "source": [
    "sum=0\n",
    "for list1 in abstract_words:\n",
    "    sum+=len(list1)"
   ]
  },
  {
   "cell_type": "code",
   "execution_count": 126,
   "metadata": {},
   "outputs": [
    {
     "data": {
      "text/plain": [
       "137.03782937646753"
      ]
     },
     "execution_count": 126,
     "metadata": {},
     "output_type": "execute_result"
    }
   ],
   "source": [
    "sum/len(abstract_words)"
   ]
  },
  {
   "cell_type": "code",
   "execution_count": 133,
   "metadata": {},
   "outputs": [],
   "source": [
    "def convert_and_pad(word_dict, sentence, pad=100):\n",
    "    NOWORD = 0 # We will use 0 to represent the 'no word' category\n",
    "    INFREQ = 1 # and we use 1 to represent the infrequent words, i.e., words not appearing in word_dict\n",
    "    \n",
    "    working_sentence = [NOWORD] * pad#created a 100 vector long list\n",
    "    \n",
    "    for word_index, word in enumerate(sentence[:pad]):\n",
    "        if word in word_dict:\n",
    "            working_sentence[word_index] = word_dict[word]\n",
    "        else:\n",
    "            working_sentence[word_index] = INFREQ\n",
    "            \n",
    "    return working_sentence, min(len(sentence), pad)\n",
    "\n",
    "def convert_and_pad_data(word_dict, data, pad=100):\n",
    "    result = []\n",
    "    lengths = []\n",
    "    \n",
    "    for sentence in data:\n",
    "        converted, leng = convert_and_pad(word_dict, sentence, pad)\n",
    "        result.append(converted)\n",
    "        lengths.append(leng)\n",
    "        \n",
    "    return np.array(result), np.array(lengths)"
   ]
  },
  {
   "cell_type": "code",
   "execution_count": 134,
   "metadata": {},
   "outputs": [],
   "source": [
    "train_X, train_X_len = convert_and_pad_data(abstract_dict, modified_file_small['abstract'])"
   ]
  },
  {
   "cell_type": "code",
   "execution_count": 135,
   "metadata": {},
   "outputs": [
    {
     "data": {
      "text/plain": [
       "100"
      ]
     },
     "execution_count": 135,
     "metadata": {},
     "output_type": "execute_result"
    }
   ],
   "source": [
    "len(train_X[1])"
   ]
  },
  {
   "cell_type": "code",
   "execution_count": 136,
   "metadata": {},
   "outputs": [
    {
     "data": {
      "text/plain": [
       "array([   1,    1,    1,    1,    1,    1,    1,    1,    1,    5,    1,\n",
       "        699,    1,    1,    1,  223,    1,  223,  297,  357,  223,    1,\n",
       "          1,    1,    1,    1,    1,    1, 2392,    1,  297,  274,    1,\n",
       "          1,   36, 1130,  528,  274, 4834,  261,    1,  699,  223,    1,\n",
       "        274,    1,  699,    1,    1,  699,  297,  223,    1,    1,    1,\n",
       "          1,    1,  223,  297,  223, 4834,  142,    1,    1, 2392,  223,\n",
       "          1,  297,  223,   36,    1,  297,    1,    1,    1,  699,    1,\n",
       "          1,    1,    1,  699,  223,    1,  261,  274, 4834,  142, 4834,\n",
       "        261,    1,  274,    1,    1,   36,   36,  297,    1,  956,  223,\n",
       "          1])"
      ]
     },
     "execution_count": 136,
     "metadata": {},
     "output_type": "execute_result"
    }
   ],
   "source": [
    "train_X[1]"
   ]
  },
  {
   "cell_type": "code",
   "execution_count": 137,
   "metadata": {},
   "outputs": [
    {
     "data": {
      "text/plain": [
       "array([100, 100, 100, ..., 100, 100, 100])"
      ]
     },
     "execution_count": 137,
     "metadata": {},
     "output_type": "execute_result"
    }
   ],
   "source": [
    "train_X_len"
   ]
  },
  {
   "cell_type": "code",
   "execution_count": 138,
   "metadata": {},
   "outputs": [
    {
     "data": {
      "text/plain": [
       "7666"
      ]
     },
     "execution_count": 138,
     "metadata": {},
     "output_type": "execute_result"
    }
   ],
   "source": [
    "len(train_X)"
   ]
  },
  {
   "cell_type": "code",
   "execution_count": 142,
   "metadata": {},
   "outputs": [],
   "source": [
    "# TODO: Import KMeans\n",
    "from  sklearn.cluster import KMeans\n",
    "\n",
    "# TODO: Create an instance of KMeans to find two clusters\n",
    "kmeans_1 = KMeans(n_clusters=10)\n",
    "\n",
    "# TODO: use fit_predict to cluster the dataset\n",
    "predictions = kmeans_1.fit_predict(train_X)\n",
    "\n",
    "# Plot\n",
    "#helper.draw_clusters(biased_dataset, predictions)"
   ]
  },
  {
   "cell_type": "code",
   "execution_count": 143,
   "metadata": {},
   "outputs": [
    {
     "data": {
      "text/plain": [
       "array([5, 1, 5, ..., 5, 1, 5])"
      ]
     },
     "execution_count": 143,
     "metadata": {},
     "output_type": "execute_result"
    }
   ],
   "source": [
    "predictions"
   ]
  },
  {
   "cell_type": "code",
   "execution_count": 144,
   "metadata": {},
   "outputs": [
    {
     "data": {
      "text/plain": [
       "array([5, 1, 5, 5, 6, 6, 8, 2, 5, 2, 1, 6, 5, 0, 5, 0, 1, 5, 8, 1, 9, 2,\n",
       "       6, 5, 0, 5, 1, 6, 5, 5, 5, 5, 5, 5, 0, 5, 5, 6, 5, 6, 9, 0, 9, 9,\n",
       "       1, 7, 5, 5, 6, 1, 5, 3, 9, 9, 4, 5, 9, 2, 4, 7, 5, 2, 1, 8, 9, 4,\n",
       "       5, 8, 1, 2, 5, 7, 0, 0, 5, 5, 5, 5, 5, 5, 5, 0, 1, 5, 0, 5, 5, 5,\n",
       "       5, 0, 3, 7, 3, 8, 3, 7, 5, 2, 5, 5])"
      ]
     },
     "execution_count": 144,
     "metadata": {},
     "output_type": "execute_result"
    }
   ],
   "source": [
    "predictions[:100]"
   ]
  },
  {
   "cell_type": "code",
   "execution_count": 6,
   "metadata": {},
   "outputs": [],
   "source": [
    "# plt.plot(train_X[:10])"
   ]
  },
  {
   "cell_type": "code",
   "execution_count": 149,
   "metadata": {},
   "outputs": [],
   "source": [
    "def clustering_errors(k, data):\n",
    "    kmeans = KMeans(n_clusters=k).fit(data)\n",
    "    predictions = kmeans.predict(data)\n",
    "    #cluster_centers = kmeans.cluster_centers_\n",
    "    #above line gives coordinates of the centers of clusters \n",
    "    \n",
    "    # errors = [mean_squared_error(row, cluster_centers[cluster]) for row, cluster in zip(data.values, predictions)]\n",
    "    # return sum(errors)\n",
    "    silhouette_avg = silhouette_score(data, predictions)\n",
    "    return silhouette_avg"
   ]
  },
  {
   "cell_type": "code",
   "execution_count": null,
   "metadata": {},
   "outputs": [],
   "source": []
  }
 ],
 "metadata": {
  "kernelspec": {
   "display_name": "Python 3",
   "language": "python",
   "name": "python3"
  },
  "language_info": {
   "codemirror_mode": {
    "name": "ipython",
    "version": 3
   },
   "file_extension": ".py",
   "mimetype": "text/x-python",
   "name": "python",
   "nbconvert_exporter": "python",
   "pygments_lexer": "ipython3",
   "version": "3.8.3"
  }
 },
 "nbformat": 4,
 "nbformat_minor": 4
}
